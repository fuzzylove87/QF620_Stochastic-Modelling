{
 "cells": [
  {
   "cell_type": "markdown",
   "metadata": {},
   "source": [
    "# 1.Part 1 Option pricers"
   ]
  },
  {
   "cell_type": "code",
   "execution_count": 39,
   "metadata": {},
   "outputs": [],
   "source": [
    "import pandas as pd\n",
    "import numpy as np\n",
    "import scipy.stats as ss\n",
    "from scipy.stats import norm\n",
    "from scipy.optimize import brentq\n",
    "import matplotlib.pylab as plt\n",
    "import datetime as dt\n",
    "from scipy import interpolate\n",
    "from math import exp,log"
   ]
  },
  {
   "cell_type": "code",
   "execution_count": 29,
   "metadata": {},
   "outputs": [],
   "source": [
    "from scipy.integrate import quad"
   ]
  },
  {
   "cell_type": "code",
   "execution_count": 1,
   "metadata": {},
   "outputs": [],
   "source": [
    "def BS_Call(S,K,T,r,sigma):\n",
    "    d1 = (np.log(S/K)+(r+(sigma**2)/2)*T)/(sigma*np.sqrt(T))\n",
    "    d2 = (np.log(S/K)+(r-(sigma**2)/2)*T)/(sigma*np.sqrt(T))\n",
    "    return S*ss.norm.cdf(d1,0,1)-K*np.exp(-r*T)*ss.norm.cdf(d2,0,1)"
   ]
  },
  {
   "cell_type": "code",
   "execution_count": 2,
   "metadata": {},
   "outputs": [],
   "source": [
    "def BS_Put(S,K,T,r,sigma):\n",
    "    d1 = (np.log(S/K)+(r+(sigma**2)/2)*T)/(sigma*np.sqrt(T))\n",
    "    d2 = (np.log(S/K)+(r-(sigma**2)/2)*T)/(sigma*np.sqrt(T))\n",
    "    return K*np.exp(-r*T)*ss.norm.cdf(-d2,0,1)-S*ss.norm.cdf(-d1,0,1)"
   ]
  },
  {
   "cell_type": "code",
   "execution_count": 3,
   "metadata": {},
   "outputs": [],
   "source": [
    "def Bach_Call(S,K,T,r,sigma):\n",
    "    x_Star = (K-S)/(S*sigma*np.sqrt(T))\n",
    "    return np.exp(-r*T)*((S-K)*ss.norm.cdf(-x_Star,0,1)+\n",
    "                         S*sigma*np.sqrt(T)*ss.norm.pdf(-x_Star,0,1))"
   ]
  },
  {
   "cell_type": "code",
   "execution_count": 4,
   "metadata": {},
   "outputs": [],
   "source": [
    "def Bach_Put(S,K,T,r,sigma):\n",
    "    x_Star = (K-S)/(S*sigma*np.sqrt(T))\n",
    "    return np.exp(-r*T)*((K-S)*ss.norm.cdf(x_Star,0,1)+\n",
    "                         S*sigma*np.sqrt(T)*ss.norm.pdf(-x_Star,0,1))"
   ]
  },
  {
   "cell_type": "code",
   "execution_count": 57,
   "metadata": {},
   "outputs": [],
   "source": [
    "def B76_LogN_Call(S,K,T,r,sigma):\n",
    "    F=S*np.exp(r*T)\n",
    "    d1 = (np.log(F/K)+(sigma**2)/2*T)/(sigma*np.sqrt(T))\n",
    "    d2 = (np.log(F/K)-(sigma**2)/2*T)/(sigma*np.sqrt(T))\n",
    "    return np.exp(-r*T)*(F*ss.norm.cdf(d1,0,1)-K*ss.norm.cdf(d2,0,1))"
   ]
  },
  {
   "cell_type": "code",
   "execution_count": 58,
   "metadata": {},
   "outputs": [],
   "source": [
    "def B76_LogN_Put(S,K,T,r,sigma):\n",
    "    F=S*np.exp(r*T)\n",
    "    d1 = (np.log(F/K)+(sigma**2)/2*T)/(sigma*np.sqrt(T))\n",
    "    d2 = (np.log(F/K)-(sigma**2)/2*T)/(sigma*np.sqrt(T))\n",
    "    return np.exp(-r*T)*(K*ss.norm.cdf(-d2,0,1)-F*ss.norm.cdf(-d1,0,1))"
   ]
  },
  {
   "cell_type": "markdown",
   "metadata": {},
   "source": [
    "# 2.Import data and SABR"
   ]
  },
  {
   "cell_type": "code",
   "execution_count": 14,
   "metadata": {
    "scrolled": false
   },
   "outputs": [],
   "source": [
    "def fetch():\n",
    "    \n",
    "    googcall = pd.read_csv('C:/Users/asus/Desktop/Term 1/Stochastic Modelling in Finance/project/goog_call.csv')\n",
    "    googcall['call'] = (googcall['best_bid']+googcall['best_offer'])/2\n",
    "#    googcall.drop(['date','expiry','best_bid','best_offer'],axis=1,inplace=True)\n",
    "    \n",
    "    googput = pd.read_csv('C:/Users/asus/Desktop/Term 1/Stochastic Modelling in Finance/project/goog_put.csv')\n",
    "    googput['put'] = (googput['best_bid']+googput['best_offer'])/2\n",
    "#    googput.drop(['date','expiry','best_bid','best_offer'],axis=1,inplace=True)\n",
    "    \n",
    "    global goog \n",
    "    goog = pd.concat([googcall['strike'],googcall['call'],googput['put']], axis=1)\n",
    "    return goog\n",
    "\n",
    "fetch()\n",
    "goog['callonly']= goog.apply(\n",
    "    lambda row: row['call'] if row['strike']>F else np.nan,\n",
    "    axis=1\n",
    ")\n",
    "goog['putonly']= goog.apply(\n",
    "    lambda row: row['put'] if row['strike']<F else np.nan,\n",
    "    axis=1\n",
    ")\n",
    "\n",
    "\n",
    "strikes = goog['strike']\n",
    "strikes_c = [i for i in goog['strike'] if i>F]\n",
    "strikes_p = [i for i in goog['strike'] if i<F]\n",
    "call_price = [i for i in goog['callonly'] if i>0]\n",
    "put_price = [i for i in goog['putonly'] if i>0]"
   ]
  },
  {
   "cell_type": "code",
   "execution_count": 13,
   "metadata": {},
   "outputs": [],
   "source": []
  },
  {
   "cell_type": "markdown",
   "metadata": {},
   "source": [
    "Default value Set"
   ]
  },
  {
   "cell_type": "code",
   "execution_count": 83,
   "metadata": {
    "scrolled": false
   },
   "outputs": [
    {
     "name": "stdout",
     "output_type": "stream",
     "text": [
      "0.4053595604395604\n"
     ]
    }
   ],
   "source": [
    "today=dt.date(2013,8,30)\n",
    "expiry=dt.date(2015,1,17)\n",
    "D=(expiry-today).days\n",
    "T=D/365.0\n",
    "rate_df = pd.read_csv('C:/Users/asus/Desktop/Term 1/Stochastic Modelling in Finance/project/discount.csv')\n",
    "interp = interpolate.interp1d(rate_df.iloc[:,0],rate_df.iloc[:,1])\n",
    "print(interp(D)) # Percent terms of D value in interpolate object\n",
    "S = 846.9\n",
    "r = interp(D)/100\n",
    "sigma = 0.2\n",
    "F = S*np.exp(r*T)"
   ]
  },
  {
   "cell_type": "markdown",
   "metadata": {},
   "source": [
    "SABR"
   ]
  },
  {
   "cell_type": "code",
   "execution_count": 84,
   "metadata": {},
   "outputs": [],
   "source": [
    "beta=0.8\n",
    "alpha=1\n",
    "rho=-0.32\n",
    "nu=0.32"
   ]
  },
  {
   "cell_type": "code",
   "execution_count": 85,
   "metadata": {},
   "outputs": [],
   "source": [
    "def SABR(F, K, T, alpha, beta, rho, nu):\n",
    "    X = K\n",
    "    if F == K:\n",
    "        numer1 = (((1 - beta)**2)/24)*alpha*alpha/(F**(2 - 2*beta))\n",
    "        numer2 = 0.25*rho*beta*nu*alpha/(F**(1 - beta))\n",
    "        numer3 = ((2 - 3*rho*rho)/24)*nu*nu\n",
    "        VolAtm = alpha*(1 + (numer1 + numer2 + numer3)*T)/(F**(1-beta))\n",
    "        sabrsigma = VolAtm\n",
    "    else:\n",
    "        z = (nu/alpha)*((F*X)**(0.5*(1-beta)))*np.log(F/X)\n",
    "        zhi = np.log((((1 - 2*rho*z + z*z)**0.5) + z - rho)/(1 - rho))\n",
    "        numer1 = (((1 - beta)**2)/24)*((alpha*alpha)/((F*X)**(1 - beta)))\n",
    "        numer2 = 0.25*rho*beta*nu*alpha/((F*X)**((1 - beta)/2))\n",
    "        numer3 = ((2 - 3*rho*rho)/24)*nu*nu\n",
    "        numer = alpha*(1 + (numer1 + numer2 + numer3)*T)*z\n",
    "        denom1 = ((1 - beta)**2/24)*(np.log(F/X))**2\n",
    "        denom2 = (((1 - beta)**4)/1920)*((np.log(F/X))**4)\n",
    "        denom = ((F*X)**((1 - beta)/2))*(1 + denom1 + denom2)*zhi\n",
    "        sabrsigma = numer/denom\n",
    "        #print(K,sabrsigma)\n",
    "\n",
    "    return sabrsigma"
   ]
  },
  {
   "cell_type": "code",
   "execution_count": 86,
   "metadata": {},
   "outputs": [],
   "source": [
    "sabr1=[]\n",
    "for i in strikes:\n",
    "    sabr1.append(SABR(F,i,T, alpha,beta,rho,nu))\n",
    "sabr1 = pd.DataFrame(sabr1, columns=['SABRsigma'])\n"
   ]
  },
  {
   "cell_type": "markdown",
   "metadata": {},
   "source": [
    "# 3.Part 3 Static Replication"
   ]
  },
  {
   "cell_type": "markdown",
   "metadata": {},
   "source": [
    "### 1.Payoff function"
   ]
  },
  {
   "cell_type": "markdown",
   "metadata": {},
   "source": [
    "#### 1.BS model"
   ]
  },
  {
   "cell_type": "code",
   "execution_count": 87,
   "metadata": {
    "scrolled": true
   },
   "outputs": [
    {
     "data": {
      "text/plain": [
       "813444675.2813267"
      ]
     },
     "execution_count": 87,
     "metadata": {},
     "output_type": "execute_result"
    }
   ],
   "source": [
    "def BS_Derive(S,T,r,sigma):\n",
    "    num1 = (S**3)*exp(3*T*(r+sigma**2))\n",
    "    num2 = 2.5*(log(S)+T*(r-(sigma**2)/2))\n",
    "    num3 = 10.0\n",
    "    value=exp(-r*T)*(num1+num2+num3)\n",
    "    return value\n",
    "BS_Derive(S,T,r,0.26011) #sigma is sabrsigma at F=K"
   ]
  },
  {
   "cell_type": "markdown",
   "metadata": {},
   "source": [
    "#### 2.Bachelier model"
   ]
  },
  {
   "cell_type": "code",
   "execution_count": 88,
   "metadata": {},
   "outputs": [
    {
     "data": {
      "text/plain": [
       "773659904.8470116"
      ]
     },
     "execution_count": 88,
     "metadata": {},
     "output_type": "execute_result"
    }
   ],
   "source": [
    "def Bach_Derive(S,T,r,sigma):\n",
    "    num1=(S**3)*(1+3*T*(sigma**2))\n",
    "    func=lambda x:log(1+sigma*np.sqrt(T)*x)*exp(-0.5*(x**2))\n",
    "    bound=-1/(sigma*np.sqrt(T))\n",
    "    num2=log(S)+quad(func,bound,np.inf)[0]\n",
    "    num3=10.0\n",
    "    value=exp(-r*T)*(num1+num2+num3)\n",
    "    return value\n",
    "Bach_Derive(S,T,r,0.26011)"
   ]
  },
  {
   "cell_type": "markdown",
   "metadata": {},
   "source": [
    "#### 3.Static-replication of European payoff"
   ]
  },
  {
   "cell_type": "code",
   "execution_count": 89,
   "metadata": {},
   "outputs": [],
   "source": [
    "def H_0(S):\n",
    "    return S**3+log(S)+10.0\n",
    "def H_1(S):\n",
    "    return 3*(S**2)+2.5/S\n",
    "def H_2(S):\n",
    "    return 6*S-2.5/(S**2)"
   ]
  },
  {
   "cell_type": "code",
   "execution_count": 90,
   "metadata": {},
   "outputs": [],
   "source": [
    "def Static_replication(F,PK,CK,T,r):\n",
    "    func1 = lambda x:PK(S,x,T,r,SABR(F,x,T,alpha,beta,rho,nu))*H_2(x)\n",
    "    func2 = lambda x:CK(S,x,T,r,SABR(F,x,T,alpha,beta,rho,nu))*H_2(x)\n",
    "    num1=exp(-r*T)*H_0(F)\n",
    "    num2=quad(func1,0,F)\n",
    "    num3=quad(func2,F,np.inf)\n",
    "    return num1+num2[0]+num3[0]"
   ]
  },
  {
   "cell_type": "code",
   "execution_count": 97,
   "metadata": {},
   "outputs": [
    {
     "data": {
      "text/plain": [
       "801548043.9132569"
      ]
     },
     "execution_count": 97,
     "metadata": {},
     "output_type": "execute_result"
    }
   ],
   "source": [
    "Static_replication(F,BS_Put,BS_Call,T,r)"
   ]
  },
  {
   "cell_type": "markdown",
   "metadata": {},
   "source": [
    "## 2.Model-Free integrated variance¶"
   ]
  },
  {
   "cell_type": "markdown",
   "metadata": {},
   "source": [
    "#### 1.BS Model, 2.Bachelier Model"
   ]
  },
  {
   "cell_type": "code",
   "execution_count": 92,
   "metadata": {},
   "outputs": [],
   "source": [
    "def MFiv_B(PK,CK,sigma):\n",
    "    func1=lambda x:PK(S,x,T,r,sigma)/(x**2)\n",
    "    func2=lambda x:CK(S,x,T,r,sigma)/(x**2)\n",
    "    num1=quad(func1,0,F)\n",
    "    num2=quad(func2,F,np.inf)\n",
    "    return 2*exp(r*T)*(num1[0]+num2[0])/T"
   ]
  },
  {
   "cell_type": "code",
   "execution_count": 93,
   "metadata": {},
   "outputs": [
    {
     "data": {
      "text/plain": [
       "0.06765721210000962"
      ]
     },
     "execution_count": 93,
     "metadata": {},
     "output_type": "execute_result"
    }
   ],
   "source": [
    "MFiv_B(BS_Put,BS_Call,0.26011)"
   ]
  },
  {
   "cell_type": "code",
   "execution_count": 94,
   "metadata": {},
   "outputs": [
    {
     "name": "stderr",
     "output_type": "stream",
     "text": [
      "E:\\Anaconda3\\lib\\site-packages\\scipy\\integrate\\quadpack.py:385: IntegrationWarning: The integral is probably divergent, or slowly convergent.\n",
      "  warnings.warn(msg, IntegrationWarning)\n"
     ]
    },
    {
     "data": {
      "text/plain": [
       "0.0938706221477408"
      ]
     },
     "execution_count": 94,
     "metadata": {},
     "output_type": "execute_result"
    }
   ],
   "source": [
    "MFiv_B(Bach_Put,Bach_Call,0.26011)"
   ]
  },
  {
   "cell_type": "code",
   "execution_count": 95,
   "metadata": {},
   "outputs": [],
   "source": [
    "def MFiv_Static(PK,CK):\n",
    "    func1=lambda x:PK(S,x,T,r,SABR(F,x,T,alpha,beta,rho,nu))/(x**2)\n",
    "    func2=lambda x:CK(S,x,T,r,SABR(F,x,T,alpha,beta,rho,nu))/(x**2)\n",
    "    num1=quad(func1,0,F)\n",
    "    num2=quad(func2,F,np.inf)\n",
    "    return 2*exp(r*T)*(num1[0]+num2[0])/T"
   ]
  },
  {
   "cell_type": "code",
   "execution_count": 98,
   "metadata": {},
   "outputs": [
    {
     "data": {
      "text/plain": [
       "0.07533900571645277"
      ]
     },
     "execution_count": 98,
     "metadata": {},
     "output_type": "execute_result"
    }
   ],
   "source": [
    "MFiv_Static(BS_Put,BS_Call)"
   ]
  },
  {
   "cell_type": "code",
   "execution_count": null,
   "metadata": {},
   "outputs": [],
   "source": []
  }
 ],
 "metadata": {
  "kernelspec": {
   "display_name": "Python 3",
   "language": "python",
   "name": "python3"
  },
  "language_info": {
   "codemirror_mode": {
    "name": "ipython",
    "version": 3
   },
   "file_extension": ".py",
   "mimetype": "text/x-python",
   "name": "python",
   "nbconvert_exporter": "python",
   "pygments_lexer": "ipython3",
   "version": "3.6.5"
  }
 },
 "nbformat": 4,
 "nbformat_minor": 2
}
